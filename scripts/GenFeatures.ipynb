{
 "cells": [
  {
   "cell_type": "markdown",
   "metadata": {},
   "source": [
    "## Generate Training Data with All Features"
   ]
  },
  {
   "cell_type": "code",
   "execution_count": null,
   "metadata": {
    "collapsed": true
   },
   "outputs": [],
   "source": [
    "#######################################################\n",
    "# Script:\n",
    "#    genFeatures.py\n",
    "# Usage:\n",
    "#    python genFeatures.py <input_file>\n",
    "# Description:\n",
    "#    Generate feature data set for performance metrics\n",
    "# Authors:\n",
    "#    Jasmin Nakic, jnakic@salesforce.com\n",
    "#    Samir Pilipovic, spilipovic@salesforce.com\n",
    "#######################################################\n",
    "import sys\n",
    "import math\n",
    "import numpy as np\n",
    "from datetime import datetime\n",
    "\n",
    "# Imports required for visualization (plotly)\n",
    "import plotly.graph_objs as go\n",
    "from plotly import __version__\n",
    "from plotly.offline import download_plotlyjs, init_notebook_mode, plot, iplot"
   ]
  },
  {
   "cell_type": "code",
   "execution_count": null,
   "metadata": {
    "collapsed": false
   },
   "outputs": [],
   "source": [
    "# Calculate datetime in a fractional format\n",
    "def getOrdinalFrac(dateObj):\n",
    "    # Return the proleptic Gregorian ordinal of the date + time as date fraction\n",
    "    dtFrac = dateObj.toordinal() + dateObj.hour/24.0 + dateObj.minute / 1440.0\n",
    "    return dtFrac\n",
    "#end getOrdinalFrac\n",
    "\n",
    "# Generate all features for a specific event\n",
    "def process(r,data):\n",
    "    # Tab delimited file where col #1 is timestamp and col #2 is the metric value\n",
    "    vals = data.split('\\t')\n",
    "    timeStamp = vals[0]\n",
    "    cnt = int(vals[1])\n",
    "    dt = datetime.strptime(timeStamp,\"%y-%m-%d %H:%M\")\n",
    "    timeStamp = \"20\" + timeStamp + \":00\"\n",
    "    dateStr = dt.strftime(\"%Y-%m-%d\")\n",
    "    ordinalFrac = getOrdinalFrac(dt)\n",
    "\n",
    "    dayInWeek = dt.weekday()\n",
    "    weekdaySin = math.sin(dayInWeek*2*math.pi/7)\n",
    "    weekdayCos = math.cos(dayInWeek*2*math.pi/7)\n",
    "\n",
    "    hourInDay = dt.hour\n",
    "    hourSin = math.sin(hourInDay*2*math.pi/24)\n",
    "    hourCos = math.cos(hourInDay*2*math.pi/24)\n",
    "\n",
    "    isMonday = 1    if dayInWeek == 0 else 0\n",
    "    isTuesday = 1   if dayInWeek == 1 else 0\n",
    "    isWednesday = 1 if dayInWeek == 2 else 0\n",
    "    isThursday = 1  if dayInWeek == 3 else 0\n",
    "    isFriday = 1    if dayInWeek == 4 else 0\n",
    "    isSaturday = 1  if dayInWeek == 5 else 0\n",
    "    isSunday = 1    if dayInWeek == 6 else 0\n",
    "\n",
    "    isHour0 = 1  if hourInDay == 0 else 0\n",
    "    isHour1 = 1  if hourInDay == 1 else 0\n",
    "    isHour2 = 1  if hourInDay == 2 else 0\n",
    "    isHour3 = 1  if hourInDay == 3 else 0\n",
    "    isHour4 = 1  if hourInDay == 4 else 0\n",
    "    isHour5 = 1  if hourInDay == 5 else 0\n",
    "    isHour6 = 1  if hourInDay == 6 else 0\n",
    "    isHour7 = 1  if hourInDay == 7 else 0\n",
    "    isHour8 = 1  if hourInDay == 8 else 0\n",
    "    isHour9 = 1  if hourInDay == 9 else 0\n",
    "    isHour10 = 1 if hourInDay == 10 else 0\n",
    "    isHour11 = 1 if hourInDay == 11 else 0\n",
    "    isHour12 = 1 if hourInDay == 12 else 0\n",
    "    isHour13 = 1 if hourInDay == 13 else 0\n",
    "    isHour14 = 1 if hourInDay == 14 else 0\n",
    "    isHour15 = 1 if hourInDay == 15 else 0\n",
    "    isHour16 = 1 if hourInDay == 16 else 0\n",
    "    isHour17 = 1 if hourInDay == 17 else 0\n",
    "    isHour18 = 1 if hourInDay == 18 else 0\n",
    "    isHour19 = 1 if hourInDay == 19 else 0\n",
    "    isHour20 = 1 if hourInDay == 20 else 0\n",
    "    isHour21 = 1 if hourInDay == 21 else 0\n",
    "    isHour22 = 1 if hourInDay == 22 else 0\n",
    "    isHour23 = 1 if hourInDay == 23 else 0\n",
    "\n",
    "    # Generate input for each hour in a a week\n",
    "    hourWeek = \"\"\n",
    "    for d in range(0,7):\n",
    "        for h in range(0,24):\n",
    "            if d > 0 or h > 0:\n",
    "                hourWeek += \"\\t\"\n",
    "            if d == dayInWeek and h == hourInDay:\n",
    "                hourWeek += \"1\"\n",
    "            else:\n",
    "                hourWeek += \"0\"\n",
    "\n",
    "    # Holidays in 2016: May 16, Jul 14 and Aug 15\n",
    "    isHoliday = 0\n",
    "    if ((dt.month == 5 and dt.day == 16) or\n",
    "        (dt.month == 7 and dt.day == 14) or\n",
    "        (dt.month == 8 and dt.day == 15)):\n",
    "        isHoliday = 1\n",
    "\n",
    "    # Print the data line\n",
    "    # Total number of values = 42 + 7*24 = 210\n",
    "    #      1   2   3   4   5   6     7     8   9     10\n",
    "    #      11  12  13  14  15  16  17  18  19  20\n",
    "    #      21  22  23  24  25  26  27  28  29  30\n",
    "    #      31  32  33  34  35  36  37  38  39  40\n",
    "    #      41  42  43\n",
    "    fmt = \"%s\\t%s\\t%s\\t%s\\t%s\\t%.8f\\t%.8f\\t%s\\t%.8f\\t%.8f\\t\" + \\\n",
    "          \"%s\\t%s\\t%s\\t%s\\t%s\\t%s\\t%s\\t%s\\t%s\\t%s\\t\" + \\\n",
    "          \"%s\\t%s\\t%s\\t%s\\t%s\\t%s\\t%s\\t%s\\t%s\\t%s\\t\" + \\\n",
    "          \"%s\\t%s\\t%s\\t%s\\t%s\\t%s\\t%s\\t%s\\t%s\\t%s\\t\" + \\\n",
    "          \"%s\\t%s\\t%s\"\n",
    "    print(fmt % \n",
    "          (timeStamp, dateStr, cnt, ordinalFrac, dayInWeek, weekdaySin, weekdayCos, hourInDay, hourSin, hourCos,\n",
    "           isMonday, isTuesday, isWednesday, isThursday, isFriday, isSaturday, isSunday, isHour0, isHour1, isHour2,\n",
    "           isHour3, isHour4, isHour5, isHour6, isHour7, isHour8, isHour9, isHour10, isHour11, isHour12,\n",
    "           isHour13, isHour14, isHour15, isHour16, isHour17, isHour18, isHour19, isHour20, isHour21, isHour22,\n",
    "           isHour23, isHoliday, hourWeek),\n",
    "          file=r)\n",
    "#end process\n",
    "\n",
    "\n",
    "# Header contains titles for the prediction input data columns\n",
    "def header(r):\n",
    "    hourWeekTitle = \"\"\n",
    "    for d in range(0,7):\n",
    "        for h in range(0,24):\n",
    "            if d > 0 or h > 0:\n",
    "                hourWeekTitle += \"\\t\"\n",
    "            hourWeekTitle += \"H_\" + str(d) + \"_\" + str(h)\n",
    "    # Print the header line\n",
    "    fmt = \"%s\\t\" * 42 + \"%s\"\n",
    "    print(fmt % (\n",
    "          \"timeStamp\",\"dateStr\",\"cnt\",\"dateFrac\",\"dayInWeek\",\"weekdaySin\",\"weekdayCos\",\"hourInDay\",\"hourSin\",\"hourCos\",\n",
    "          \"isMonday\",\"isTuesday\",\"isWednesday\",\"isThursday\",\"isFriday\",\"isSaturday\",\"isSunday\",\"isHour0\",\"isHour1\",\"isHour2\",\n",
    "          \"isHour3\",\"isHour4\",\"isHour5\",\"isHour6\",\"isHour7\",\"isHour8\",\"isHour9\",\"isHour10\",\"isHour11\",\"isHour12\",\n",
    "          \"isHour13\",\"isHour14\",\"isHour15\",\"isHour16\",\"isHour17\",\"isHour18\",\"isHour19\",\"isHour20\",\"isHour21\",\"isHour22\",\n",
    "          \"isHour23\",\"isHoliday\",hourWeekTitle),\n",
    "          file=r\n",
    "    )\n",
    "#end header\n",
    "\n",
    "# Generate feature set for the actual input file\n",
    "def genFeatureSet(inputFileName,resultFileName):\n",
    "    linecnt = 0\n",
    "\n",
    "    # Simply read file line by line, skip the header line\n",
    "    with open(inputFileName) as f, open(resultFileName,\"w\") as r:\n",
    "        for line in f:\n",
    "            line = line.strip()\n",
    "            linecnt = linecnt + 1\n",
    "            header(r) if linecnt == 1 else process(r,line)\n",
    "#end gen_fearure_set"
   ]
  },
  {
   "cell_type": "markdown",
   "metadata": {},
   "source": [
    "### Generate Training and Test feature data files"
   ]
  },
  {
   "cell_type": "code",
   "execution_count": null,
   "metadata": {
    "collapsed": true
   },
   "outputs": [],
   "source": [
    "# Start\n",
    "trainInputFile = \"train_input.txt\"\n",
    "trainResultFile = \"train_data.txt\"\n",
    "\n",
    "testInputFile = \"test_input.txt\"\n",
    "testResultFile = \"test_data.txt\"\n",
    "\n",
    "genFeatureSet(trainInputFile,trainResultFile)\n",
    "genFeatureSet(testInputFile,testResultFile)"
   ]
  },
  {
   "cell_type": "markdown",
   "metadata": {},
   "source": [
    "### Load Training Data"
   ]
  },
  {
   "cell_type": "code",
   "execution_count": null,
   "metadata": {
    "collapsed": false
   },
   "outputs": [],
   "source": [
    "# Load the training data from file generated above using correct data types\n",
    "dataSet = np.genfromtxt(\n",
    "    trainResultFile,\n",
    "    delimiter='\\t',\n",
    "    names=True,\n",
    "    dtype=(\"|U19\",\"|U10\",int,float,int,float,float,int,float,float,\n",
    "           int,int,int,int,int,int,int,int,int,int,\n",
    "           int,int,int,int,int,int,int,int,int,int,\n",
    "           int,int,int,int,int,int,int,int,int,int,\n",
    "           int,int,int,int,int,int,int,int,int,int,\n",
    "           int,int,int,int,int,int,int,int,int,int,\n",
    "           int,int,int,int,int,int,int,int,int,int,\n",
    "           int,int,int,int,int,int,int,int,int,int,\n",
    "           int,int,int,int,int,int,int,int,int,int,\n",
    "           int,int,int,int,int,int,int,int,int,int,\n",
    "           int,int,int,int,int,int,int,int,int,int,\n",
    "           int,int,int,int,int,int,int,int,int,int,\n",
    "           int,int,int,int,int,int,int,int,int,int,\n",
    "           int,int,int,int,int,int,int,int,int,int,\n",
    "           int,int,int,int,int,int,int,int,int,int,\n",
    "           int,int,int,int,int,int,int,int,int,int,\n",
    "           int,int,int,int,int,int,int,int,int,int,\n",
    "           int,int,int,int,int,int,int,int,int,int,\n",
    "           int,int,int,int,int,int,int,int,int,int,\n",
    "           int,int,int,int,int,int,int,int,int,int,\n",
    "           int,int,int,int,int,int,int,int,int,int\n",
    "    )\n",
    ")"
   ]
  },
  {
   "cell_type": "markdown",
   "metadata": {},
   "source": [
    "### Examine Training Data"
   ]
  },
  {
   "cell_type": "code",
   "execution_count": null,
   "metadata": {
    "collapsed": false
   },
   "outputs": [],
   "source": [
    "# Get number of rows, columns, column names and sample rows\n",
    "print(\"Shape:\", dataSet.shape)\n",
    "print(\"Columns:\", len(dataSet.dtype.names))\n",
    "print(dataSet.dtype.names)\n",
    "print(dataSet[1:5])"
   ]
  },
  {
   "cell_type": "markdown",
   "metadata": {},
   "source": [
    "### Data Visualization"
   ]
  },
  {
   "cell_type": "markdown",
   "metadata": {},
   "source": [
    "We are using \"plotly\" module for Python.\n",
    "It allows generating charts online via cloud service and offline."
   ]
  },
  {
   "cell_type": "code",
   "execution_count": null,
   "metadata": {
    "collapsed": false,
    "scrolled": true
   },
   "outputs": [],
   "source": [
    "# Generate training data chart using plotly\n",
    "print(\"Plotly version\", __version__) # requires plotly version >= 1.9.0\n",
    "init_notebook_mode(connected=True)\n",
    "\n",
    "# Prepare chart data\n",
    "set1 = go.Bar(\n",
    "    x=dataSet[\"dateFrac\"],\n",
    "    y=dataSet[\"cnt\"],\n",
    "    name=\"Cnt\")\n",
    "barData = [set1]\n",
    "\n",
    "# Use offline mode to display charts\n",
    "barLayout = go.Layout(barmode='group', title=\"Training Data\")\n",
    "fig = go.Figure(data=barData, layout=barLayout)\n",
    "iplot(fig)"
   ]
  },
  {
   "cell_type": "code",
   "execution_count": null,
   "metadata": {
    "collapsed": true
   },
   "outputs": [],
   "source": []
  }
 ],
 "metadata": {
  "kernelspec": {
   "display_name": "Python 3",
   "language": "python",
   "name": "python3"
  },
  "language_info": {
   "codemirror_mode": {
    "name": "ipython",
    "version": 3
   },
   "file_extension": ".py",
   "mimetype": "text/x-python",
   "name": "python",
   "nbconvert_exporter": "python",
   "pygments_lexer": "ipython3",
   "version": "3.6.0"
  }
 },
 "nbformat": 4,
 "nbformat_minor": 2
}
