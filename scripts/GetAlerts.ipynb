{
 "cells": [
  {
   "cell_type": "code",
   "execution_count": null,
   "metadata": {
    "collapsed": true
   },
   "outputs": [],
   "source": [
    "#######################################################\n",
    "# Script:\n",
    "#    getAlerts.py\n",
    "# Usage:\n",
    "#    python getAlerts.py <input_file> <output_file>\n",
    "# Description:\n",
    "#    Generate alerts on test predictions\n",
    "# Authors:\n",
    "#    Jasmin Nakic, jnakic@salesforce.com\n",
    "#    Samir Pilipovic, spilipovic@salesforce.com\n",
    "#######################################################\n",
    "\n",
    "import sys\n",
    "import numpy as np\n",
    "\n",
    "# Imports required for visualization (plotly)\n",
    "import plotly.graph_objs as go\n",
    "from plotly import __version__\n",
    "from plotly.offline import download_plotlyjs, init_notebook_mode, plot, iplot"
   ]
  },
  {
   "cell_type": "code",
   "execution_count": null,
   "metadata": {
    "collapsed": true
   },
   "outputs": [],
   "source": [
    "# Script debugging flag\n",
    "debugFlag = False\n",
    "DELTAHIGH = 200000\n",
    "DELTALOW = -200000\n",
    "PCTHIGH = 20.0\n",
    "PCTLOW = -20.0"
   ]
  },
  {
   "cell_type": "code",
   "execution_count": null,
   "metadata": {
    "collapsed": false
   },
   "outputs": [],
   "source": [
    "# Function to validate rule\n",
    "def applyRule(V,P):\n",
    "    delta = (P[0] - V[0]) + (P[1] - V[1]) + (P[2] - V[2])\n",
    "    sum = V[0] + V[1] + V[2]\n",
    "    pct = 100.0*delta/float(sum) if sum != 0 else 100.0\n",
    "    alert = \"\"\n",
    "    if delta > DELTAHIGH and pct > PCTHIGH:\n",
    "        alert = \"HIGH\"\n",
    "    if delta < DELTALOW and pct < PCTLOW:\n",
    "        alert = \"LOW\"\n",
    "    delta = delta / 3\n",
    "    return (alert,delta,pct)\n",
    "\n",
    "#end applyRule\n",
    "\n",
    "# Iterate over test results\n",
    "def getAlerts(data):\n",
    "    X = np.zeros(data.shape[0])\n",
    "    # X = np.reshape(X,(-1,1))\n",
    "    v = [0,0,0]\n",
    "    p = [0,0,0]\n",
    "    idx = 0\n",
    "    row = 0\n",
    "    raiseAlert = False\n",
    "    for m in np.nditer(data):\n",
    "        idx = idx + 1\n",
    "        v[0] = v[1] if idx > 2 else 0\n",
    "        v[1] = v[2] if idx > 1 else 0\n",
    "        v[2] = m['cnt']\n",
    "        p[0] = p[1] if idx > 2 else 0\n",
    "        p[1] = p[2] if idx > 1 else 0\n",
    "        p[2] = m['predHS']\n",
    "        alert = \"\"\n",
    "        val = 0\n",
    "        pct = 0\n",
    "        if idx >= 3: # has enough data\n",
    "            raiseAlert = True\n",
    "        if raiseAlert:\n",
    "            (alert,val,pct) = applyRule(v,p)\n",
    "        if alert != \"\":\n",
    "            X[row] = val\n",
    "            print(alert, m['timeStamp'], val, pct, \"(\", p[0], p[1], p[2], \") (\", v[0], v[1], v[2], \")\")\n",
    "            idx = 0\n",
    "            raiseAlert = False\n",
    "        row = row + 1\n",
    "    return X\n",
    "#end getAlerts\n",
    "\n",
    "# Write results to file\n",
    "def writeResult(output,calcData,A):\n",
    "    # generate result file\n",
    "    result = np.array(\n",
    "        np.empty(calcData.shape[0]),\n",
    "        dtype=[\n",
    "            (\"timeStamp\",\"|U19\"),\n",
    "            (\"dateFrac\",float),\n",
    "            (\"isHoliday\",int),\n",
    "            (\"isSunday\",int),\n",
    "            (\"cnt\",int),\n",
    "            (\"predSimple\",int),\n",
    "            (\"predTrig\",int),\n",
    "            (\"predHourDay\",int),\n",
    "            (\"predHourWeek\",int),\n",
    "            (\"predHS\",int),\n",
    "            (\"alertVal\",int)\n",
    "        ]\n",
    "    )\n",
    "\n",
    "    result[\"timeStamp\"]    = calcData[\"timeStamp\"]\n",
    "    result[\"dateFrac\"]     = calcData[\"dateFrac\"]\n",
    "    result[\"isHoliday\"]    = calcData[\"isHoliday\"]\n",
    "    result[\"isSunday\"]     = calcData[\"isSunday\"]\n",
    "    result[\"cnt\"]          = calcData[\"cnt\"]\n",
    "    result[\"predSimple\"]   = calcData[\"predSimple\"]\n",
    "    result[\"predTrig\"]     = calcData[\"predTrig\"]\n",
    "    result[\"predHourDay\"]  = calcData[\"predHourDay\"]\n",
    "    result[\"predHourWeek\"] = calcData[\"predHourWeek\"]\n",
    "    result[\"predHS\"]       = calcData[\"predHS\"]\n",
    "    result[\"alertVal\"]     = A\n",
    "\n",
    "    if debugFlag:\n",
    "        print(\"R 0-5: \", result[0:5])\n",
    "    hdr = \"timeStamp\\tdateFrac\\tisHoliday\\tisSunday\\tcnt\\tpredSimple\\tpredTrig\\tpredHourDay\\tpredHourWeek\\tpredHS\\talertVal\"\n",
    "    np.savetxt(output,result,fmt=\"%s\",delimiter=\"\\t\",header=hdr,comments=\"\")\n",
    "#end writeResult\n",
    "\n",
    "# Process alerts for input file\n",
    "def process(inputFile,outputFile):\n",
    "    # timeStamp dateFrac isHoliday isSunday cnt predSimple predTrig predHourDay predHourWeek predHS\n",
    "    testData = np.genfromtxt(\n",
    "        inputFile,\n",
    "        delimiter='\\t',\n",
    "        names=True,\n",
    "        dtype=(\"|U19\",float,int,int,int,int,int,int,int,int)\n",
    "    )\n",
    "\n",
    "    AV = getAlerts(testData)\n",
    "    writeResult(outputFile,testData,AV)      \n",
    "#end process"
   ]
  },
  {
   "cell_type": "code",
   "execution_count": null,
   "metadata": {
    "collapsed": false
   },
   "outputs": [],
   "source": [
    "# Start\n",
    "trainInputFile = \"train_exc.txt\"\n",
    "trainAlertFile = \"train_alert.txt\"\n",
    "\n",
    "testInputFile = \"test_exc.txt\"\n",
    "testAlertFile = \"test_alert.txt\"\n",
    "\n",
    "process(trainInputFile,trainAlertFile)\n",
    "process(testInputFile,testAlertFile)"
   ]
  },
  {
   "cell_type": "code",
   "execution_count": null,
   "metadata": {
    "collapsed": false
   },
   "outputs": [],
   "source": [
    "# Load results from file generated above using correct data types\n",
    "results = np.genfromtxt(\n",
    "    testAlertFile,\n",
    "    dtype=(\"|U19\",float,int,int,int,int,int,int,int,int,int),\n",
    "    delimiter='\\t',\n",
    "    names=True\n",
    ")"
   ]
  },
  {
   "cell_type": "code",
   "execution_count": null,
   "metadata": {
    "collapsed": false
   },
   "outputs": [],
   "source": [
    "# Examine result data\n",
    "print(\"Shape:\", results.shape)\n",
    "print(\"Columns:\", len(results.dtype.names))\n",
    "print(results[1:5])"
   ]
  },
  {
   "cell_type": "code",
   "execution_count": null,
   "metadata": {
    "collapsed": false,
    "scrolled": true
   },
   "outputs": [],
   "source": [
    "# Generate chart with predicitons based on training data (using plotly)\n",
    "print(\"Plotly version\", __version__) # requires plotly version >= 1.9.0\n",
    "init_notebook_mode(connected=True)\n",
    "\n",
    "set1 = go.Bar(\n",
    "    x=results[\"dateFrac\"],\n",
    "    y=results[\"cnt\"],\n",
    "#    marker=dict(color='blue'),\n",
    "    name='Actual'\n",
    ")\n",
    "set2 = go.Bar(\n",
    "    x=results[\"dateFrac\"],\n",
    "    y=results[\"predHS\"],\n",
    "#    marker=dict(color='crimson'),\n",
    "    opacity=0.6,\n",
    "    name='Prediction'\n",
    ")\n",
    "set3 = go.Bar(\n",
    "    x=results[\"dateFrac\"],\n",
    "    y=results[\"alertVal\"],\n",
    "#    marker=dict(color='crimson'),\n",
    "    opacity=0.6,\n",
    "    name='Alert'\n",
    ")\n",
    "barData = [set1, set2, set3]\n",
    "barLayout = go.Layout(barmode='group', title=\"Prediction vs. Actual with Alerts\")\n",
    "\n",
    "fig = go.Figure(data=barData, layout=barLayout)\n",
    "iplot(fig)"
   ]
  },
  {
   "cell_type": "code",
   "execution_count": null,
   "metadata": {
    "collapsed": true
   },
   "outputs": [],
   "source": []
  }
 ],
 "metadata": {
  "kernelspec": {
   "display_name": "Python 3",
   "language": "python",
   "name": "python3"
  },
  "language_info": {
   "codemirror_mode": {
    "name": "ipython",
    "version": 3
   },
   "file_extension": ".py",
   "mimetype": "text/x-python",
   "name": "python",
   "nbconvert_exporter": "python",
   "pygments_lexer": "ipython3",
   "version": "3.6.0"
  }
 },
 "nbformat": 4,
 "nbformat_minor": 2
}
